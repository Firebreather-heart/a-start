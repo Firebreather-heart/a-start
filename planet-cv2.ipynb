{
 "cells": [
  {
   "cell_type": "markdown",
   "id": "e0296ba5",
   "metadata": {
    "papermill": {
     "duration": 0.004883,
     "end_time": "2022-09-19T09:11:59.931665",
     "exception": false,
     "start_time": "2022-09-19T09:11:59.926782",
     "status": "completed"
    },
    "tags": []
   },
   "source": [
    "<h2 style=\"color:yellow;background:blue;padding:5px\"> Importing the neccessary libraries and modules </h2> "
   ]
  },
  {
   "cell_type": "code",
   "execution_count": 1,
   "id": "3ea16428",
   "metadata": {
    "_cell_guid": "4190f27a-169b-48ce-8382-f2b966dc2d05",
    "_uuid": "b213320a-08d8-4235-8dfd-1d03df2dede1",
    "execution": {
     "iopub.execute_input": "2022-09-19T09:11:59.941784Z",
     "iopub.status.busy": "2022-09-19T09:11:59.940962Z",
     "iopub.status.idle": "2022-09-19T09:12:06.033102Z",
     "shell.execute_reply": "2022-09-19T09:12:06.032122Z"
    },
    "papermill": {
     "duration": 6.100047,
     "end_time": "2022-09-19T09:12:06.035622",
     "exception": false,
     "start_time": "2022-09-19T09:11:59.935575",
     "status": "completed"
    },
    "tags": []
   },
   "outputs": [],
   "source": [
    "import numpy as np # linear algebra\n",
    "import pandas as pd\n",
    "import cv2, gc\n",
    "from tqdm import tqdm\n",
    "from sklearn.preprocessing import MultiLabelBinarizer\n",
    "from sklearn.metrics import fbeta_score\n",
    "from sklearn.model_selection import KFold\n",
    "from sklearn.utils import shuffle\n",
    "from keras.models import Sequential\n",
    "from keras.layers import Dense, BatchNormalization, Flatten\n",
    "from keras.applications.vgg19 import VGG19\n",
    "from keras.callbacks import EarlyStopping, ReduceLROnPlateau, ModelCheckpoint\n",
    "from tensorflow import keras\n",
    "from tensorflow.keras.optimizers import Adam\n",
    "from tensorflow.keras.preprocessing.image import ImageDataGenerator\n",
    "from tensorflow.keras.utils import to_categorical"
   ]
  },
  {
   "cell_type": "markdown",
   "id": "18efd7d3",
   "metadata": {
    "papermill": {
     "duration": 0.003607,
     "end_time": "2022-09-19T09:12:06.043376",
     "exception": false,
     "start_time": "2022-09-19T09:12:06.039769",
     "status": "completed"
    },
    "tags": []
   },
   "source": [
    "<h2 style=\"color:yellow;background:blue;padding:5px\"> Setting Defaults And Preprocessing</h2>"
   ]
  },
  {
   "cell_type": "code",
   "execution_count": 2,
   "id": "a2bd96ce",
   "metadata": {
    "_cell_guid": "235cc4b5-c0ee-4b75-b591-fc7f9843f979",
    "_uuid": "44de38f8-5106-4c40-a28f-6a0f7eed8fe3",
    "execution": {
     "iopub.execute_input": "2022-09-19T09:12:06.053860Z",
     "iopub.status.busy": "2022-09-19T09:12:06.051961Z",
     "iopub.status.idle": "2022-09-19T09:12:06.057617Z",
     "shell.execute_reply": "2022-09-19T09:12:06.056722Z"
    },
    "papermill": {
     "duration": 0.012676,
     "end_time": "2022-09-19T09:12:06.059778",
     "exception": false,
     "start_time": "2022-09-19T09:12:06.047102",
     "status": "completed"
    },
    "tags": []
   },
   "outputs": [],
   "source": [
    "input_size = 128\n",
    "epoch = 20\n",
    "batch_size = 500\n",
    "input_shape = (input_size, input_size, 3)\n",
    "path = '/kaggle/input/planets-dataset/planet/planet/'"
   ]
  },
  {
   "cell_type": "code",
   "execution_count": 3,
   "id": "c444f9c9",
   "metadata": {
    "_cell_guid": "74f45f52-f940-49d0-9891-22c01f67f278",
    "_uuid": "18b86af5-e296-45f7-adc3-5689303f21f2",
    "execution": {
     "iopub.execute_input": "2022-09-19T09:12:06.068495Z",
     "iopub.status.busy": "2022-09-19T09:12:06.068220Z",
     "iopub.status.idle": "2022-09-19T09:12:06.424126Z",
     "shell.execute_reply": "2022-09-19T09:12:06.423156Z"
    },
    "papermill": {
     "duration": 0.362837,
     "end_time": "2022-09-19T09:12:06.426439",
     "exception": false,
     "start_time": "2022-09-19T09:12:06.063602",
     "status": "completed"
    },
    "tags": []
   },
   "outputs": [],
   "source": [
    "gc.collect()\n",
    "train_classes = pd.read_csv(f'{path}train_classes.csv')\n",
    "train_classes = shuffle(train_classes, random_state=0)\n",
    "sample_submission = pd.read_csv(f'{path}sample_submission.csv')\n",
    "trad_sample_df = sample_submission[sample_submission.image_name.str.contains('file_')].copy()\n",
    "sample_submission = sample_submission[sample_submission.image_name.str.contains('test_')]"
   ]
  },
  {
   "cell_type": "code",
   "execution_count": 4,
   "id": "3cac234c",
   "metadata": {
    "execution": {
     "iopub.execute_input": "2022-09-19T09:12:06.436706Z",
     "iopub.status.busy": "2022-09-19T09:12:06.435743Z",
     "iopub.status.idle": "2022-09-19T09:12:07.417149Z",
     "shell.execute_reply": "2022-09-19T09:12:07.416178Z"
    },
    "papermill": {
     "duration": 0.989063,
     "end_time": "2022-09-19T09:12:07.419562",
     "exception": false,
     "start_time": "2022-09-19T09:12:06.430499",
     "status": "completed"
    },
    "tags": []
   },
   "outputs": [],
   "source": [
    "s = train_classes.tags.str.split(' ').explode()\n",
    "lb = MultiLabelBinarizer()\n",
    "encoded = lb.fit_transform(s.values[:, None])\n",
    "one_hot_df = pd.DataFrame(encoded.tolist(), columns=np.ravel(lb.classes_), dtype='int') \\\n",
    "                .groupby(s.index) \\\n",
    "                .sum()\n",
    "one_hot_df['image_name'] = train_classes[\"image_name\"].apply(lambda fn: fn+\".jpg\")\n",
    "cols = ['image_name'] + list(np.ravel(lb.classes_))\n",
    "train_classes = one_hot_df[cols].copy()\n",
    "del one_hot_df, s, encoded, lb\n",
    "trad_sample_df['image_name'] = trad_sample_df[\"image_name\"].apply(lambda fn: fn+\".jpg\")\n",
    "sample_submission['image_name'] = sample_submission[\"image_name\"].apply(lambda fn: fn+\".jpg\")"
   ]
  },
  {
   "cell_type": "code",
   "execution_count": 5,
   "id": "07b2d9c4",
   "metadata": {
    "_cell_guid": "54ea9955-d8b3-440b-a21d-c13b8487751f",
    "_uuid": "d73c8b36-e9c8-4ea3-b25f-73937261f46f",
    "execution": {
     "iopub.execute_input": "2022-09-19T09:12:07.428749Z",
     "iopub.status.busy": "2022-09-19T09:12:07.428426Z",
     "iopub.status.idle": "2022-09-19T09:12:07.433247Z",
     "shell.execute_reply": "2022-09-19T09:12:07.432224Z"
    },
    "papermill": {
     "duration": 0.01191,
     "end_time": "2022-09-19T09:12:07.435579",
     "exception": false,
     "start_time": "2022-09-19T09:12:07.423669",
     "status": "completed"
    },
    "tags": []
   },
   "outputs": [],
   "source": [
    "datagen = ImageDataGenerator(horizontal_flip=True, vertical_flip=True,\n",
    "                             zoom_range=0.5, rotation_range=90,\n",
    "                             rescale=1./255.)"
   ]
  },
  {
   "cell_type": "markdown",
   "id": "f5d62d7c",
   "metadata": {
    "papermill": {
     "duration": 0.003543,
     "end_time": "2022-09-19T09:12:07.442815",
     "exception": false,
     "start_time": "2022-09-19T09:12:07.439272",
     "status": "completed"
    },
    "tags": []
   },
   "source": [
    "<h2 style=\"color:yellow;background:blue;padding:5px\">Defining Functions</h2>"
   ]
  },
  {
   "cell_type": "code",
   "execution_count": 6,
   "id": "015d366d",
   "metadata": {
    "_cell_guid": "a7fe1aab-779a-4f80-a34e-cd023f9018a2",
    "_uuid": "3754ea10-ccc6-4191-bcd6-3edac58aeba3",
    "execution": {
     "iopub.execute_input": "2022-09-19T09:12:07.451561Z",
     "iopub.status.busy": "2022-09-19T09:12:07.451303Z",
     "iopub.status.idle": "2022-09-19T09:12:07.469340Z",
     "shell.execute_reply": "2022-09-19T09:12:07.468526Z"
    },
    "papermill": {
     "duration": 0.024612,
     "end_time": "2022-09-19T09:12:07.471123",
     "exception": false,
     "start_time": "2022-09-19T09:12:07.446511",
     "status": "completed"
    },
    "tags": []
   },
   "outputs": [],
   "source": [
    "def VGG19_Amazon_Model(input_shape=input_shape):\n",
    "    gc.collect()\n",
    "    base_model = VGG19(include_top=False, weights='imagenet',\n",
    "                       input_shape=input_shape)\n",
    "    model = Sequential()\n",
    "    model.add(BatchNormalization(input_shape=input_shape))\n",
    "    model.add(base_model)\n",
    "    model.add(Flatten())\n",
    "    model.add(Dense(17, activation='sigmoid'))\n",
    "   \n",
    "    return model\n",
    "\n",
    "\n",
    "def return_model_name(k):\n",
    "    return '/kaggle/working/model_'+str(k)+'.h5'\n",
    "\n",
    "\n",
    "def train_model(df, k=5):\n",
    "    gc.collect()\n",
    "    model = VGG19_Amazon_Model()\n",
    "    kf = KFold(n_splits=k, random_state=1, shuffle=True)\n",
    "    fold = 1\n",
    "\n",
    "    for train_index, val_index in kf.split(df.image_name):\n",
    "        \n",
    "        training_data = df.iloc[train_index]\n",
    "        validation_data = df.iloc[val_index]\n",
    "        \n",
    "        train_generator=datagen.flow_from_dataframe(\n",
    "                                            dataframe=training_data, directory=f'{path}/train-jpg/',\n",
    "                                            x_col=\"image_name\", y_col=cols[1:], batch_size=batch_size,\n",
    "                                            seed=42, shuffle=True, class_mode=\"raw\",\n",
    "                                            target_size=(input_size, input_size))\n",
    "        \n",
    "        val_generator=datagen.flow_from_dataframe(\n",
    "                                            dataframe=validation_data, directory=f'{path}/train-jpg/',\n",
    "                                            x_col=\"image_name\", y_col=cols[1:], batch_size=batch_size,\n",
    "                                            seed=42, shuffle=True, class_mode=\"raw\",\n",
    "                                            target_size=(input_size, input_size))\n",
    "        \n",
    "        STEP_SIZE_TRAIN = train_generator.n//train_generator.batch_size\n",
    "        STEP_SIZE_VAL = val_generator.n//val_generator.batch_size\n",
    "        \n",
    "        opt = Adam(learning_rate=0.0001)\n",
    "        model.compile(optimizer=opt, loss='binary_crossentropy', metrics=['accuracy'])\n",
    "\n",
    "        callback = [EarlyStopping(monitor='val_accuracy', patience=4, verbose=1),\n",
    "                    ReduceLROnPlateau(monitor='val_loss', factor=0.1, patience=2,\n",
    "                                   cooldown=2, verbose=1),\n",
    "                    ModelCheckpoint(return_model_name(fold), monitor='val_accuracy', \n",
    "                                    verbose=1, save_best_only=True, mode='max')]\n",
    "        history = model.fit_generator(train_generator, \n",
    "                                      validation_data=val_generator,\n",
    "                                      callbacks=callback, verbose=1, epochs=epoch) \n",
    "        fold += 1\n",
    "        \n",
    "    return val_generator\n",
    "\n",
    "\n",
    "def predict_model(test_gen, k=5, batch_size=batch_size):\n",
    "    model = VGG19_Amazon_Model()\n",
    "    model.load_weights(filepath='/kaggle/working/model_2.h5')\n",
    "    full_test = []\n",
    "    p_test = model.predict_generator(test_gen, verbose=1)\n",
    "    full_test.append(p_test)\n",
    "    #full_test.append(p_test)\n",
    "\n",
    "    for nfold in range(1,k+1):\n",
    "        model.load_weights(filepath=return_model_name(nfold))\n",
    "        p_test = model.predict_generator(test_gen, verbose=1)\n",
    "        full_test.append(p_test)\n",
    "    result = np.array(full_test[0])\n",
    "\n",
    "    #result = np.array(full_test)\n",
    "    \n",
    "    for i in range(1, k):\n",
    "        result += np.array(full_test[i])\n",
    "        result = result / k\n",
    "    \n",
    "    result_bool = (result > 0.18)\n",
    "    \n",
    "#     for i in result:\n",
    "#         if i > 0.18:\n",
    "#             result_bool.append(True)\n",
    "#         else:\n",
    "#             result_bool.append(False)\n",
    "            \n",
    "    \n",
    "    return result_bool.astype(int)\n",
    "\n",
    "\n",
    "def generate_original_format(df):\n",
    "    preds = []\n",
    "    for i in tqdm(range(df.shape[0]), miniters=1000):\n",
    "        a = df.iloc[[i]]\n",
    "        pred_tag=[]\n",
    "        for k in cols[1:]:\n",
    "            if(a[k][i] == 1):\n",
    "                pred_tag.append(k)\n",
    "        preds.append(' '.join(pred_tag))\n",
    "\n",
    "    df['tags'] = preds\n",
    "    df['image_name'] = df['image_name'].apply(lambda x: x.split('.')[0])\n",
    "    return df[['image_name', 'tags']]"
   ]
  },
  {
   "cell_type": "code",
   "execution_count": 7,
   "id": "0d0b47bc",
   "metadata": {
    "_cell_guid": "7ab5c811-b305-4c56-84c9-39487052b93c",
    "_uuid": "90635d17-062a-45c4-8ee6-339110ed4104",
    "execution": {
     "iopub.execute_input": "2022-09-19T09:12:07.480421Z",
     "iopub.status.busy": "2022-09-19T09:12:07.479563Z",
     "iopub.status.idle": "2022-09-19T11:51:29.753081Z",
     "shell.execute_reply": "2022-09-19T11:51:29.752106Z"
    },
    "papermill": {
     "duration": 9562.2806,
     "end_time": "2022-09-19T11:51:29.755445",
     "exception": false,
     "start_time": "2022-09-19T09:12:07.474845",
     "status": "completed"
    },
    "tags": []
   },
   "outputs": [
    {
     "name": "stderr",
     "output_type": "stream",
     "text": [
      "2022-09-19 09:12:07.885522: I tensorflow/stream_executor/cuda/cuda_gpu_executor.cc:937] successful NUMA node read from SysFS had negative value (-1), but there must be at least one NUMA node, so returning NUMA node zero\n",
      "2022-09-19 09:12:07.983088: I tensorflow/stream_executor/cuda/cuda_gpu_executor.cc:937] successful NUMA node read from SysFS had negative value (-1), but there must be at least one NUMA node, so returning NUMA node zero\n",
      "2022-09-19 09:12:07.983933: I tensorflow/stream_executor/cuda/cuda_gpu_executor.cc:937] successful NUMA node read from SysFS had negative value (-1), but there must be at least one NUMA node, so returning NUMA node zero\n",
      "2022-09-19 09:12:07.985158: I tensorflow/core/platform/cpu_feature_guard.cc:142] This TensorFlow binary is optimized with oneAPI Deep Neural Network Library (oneDNN) to use the following CPU instructions in performance-critical operations:  AVX2 AVX512F FMA\n",
      "To enable them in other operations, rebuild TensorFlow with the appropriate compiler flags.\n",
      "2022-09-19 09:12:07.993721: I tensorflow/stream_executor/cuda/cuda_gpu_executor.cc:937] successful NUMA node read from SysFS had negative value (-1), but there must be at least one NUMA node, so returning NUMA node zero\n",
      "2022-09-19 09:12:07.994433: I tensorflow/stream_executor/cuda/cuda_gpu_executor.cc:937] successful NUMA node read from SysFS had negative value (-1), but there must be at least one NUMA node, so returning NUMA node zero\n",
      "2022-09-19 09:12:07.995139: I tensorflow/stream_executor/cuda/cuda_gpu_executor.cc:937] successful NUMA node read from SysFS had negative value (-1), but there must be at least one NUMA node, so returning NUMA node zero\n",
      "2022-09-19 09:12:10.266591: I tensorflow/stream_executor/cuda/cuda_gpu_executor.cc:937] successful NUMA node read from SysFS had negative value (-1), but there must be at least one NUMA node, so returning NUMA node zero\n",
      "2022-09-19 09:12:10.267458: I tensorflow/stream_executor/cuda/cuda_gpu_executor.cc:937] successful NUMA node read from SysFS had negative value (-1), but there must be at least one NUMA node, so returning NUMA node zero\n",
      "2022-09-19 09:12:10.268140: I tensorflow/stream_executor/cuda/cuda_gpu_executor.cc:937] successful NUMA node read from SysFS had negative value (-1), but there must be at least one NUMA node, so returning NUMA node zero\n",
      "2022-09-19 09:12:10.268745: I tensorflow/core/common_runtime/gpu/gpu_device.cc:1510] Created device /job:localhost/replica:0/task:0/device:GPU:0 with 15401 MB memory:  -> device: 0, name: Tesla P100-PCIE-16GB, pci bus id: 0000:00:04.0, compute capability: 6.0\n"
     ]
    },
    {
     "name": "stdout",
     "output_type": "stream",
     "text": [
      "Downloading data from https://storage.googleapis.com/tensorflow/keras-applications/vgg19/vgg19_weights_tf_dim_ordering_tf_kernels_notop.h5\n",
      "80142336/80134624 [==============================] - 0s 0us/step\n",
      "80150528/80134624 [==============================] - 0s 0us/step\n",
      "Found 32383 validated image filenames.\n",
      "Found 8096 validated image filenames.\n"
     ]
    },
    {
     "name": "stderr",
     "output_type": "stream",
     "text": [
      "/opt/conda/lib/python3.7/site-packages/keras/engine/training.py:1972: UserWarning: `Model.fit_generator` is deprecated and will be removed in a future version. Please use `Model.fit`, which supports generators.\n",
      "  warnings.warn('`Model.fit_generator` is deprecated and '\n",
      "2022-09-19 09:13:31.940365: I tensorflow/compiler/mlir/mlir_graph_optimization_pass.cc:185] None of the MLIR Optimization Passes are enabled (registered 2)\n"
     ]
    },
    {
     "name": "stdout",
     "output_type": "stream",
     "text": [
      "Epoch 1/20\n"
     ]
    },
    {
     "name": "stderr",
     "output_type": "stream",
     "text": [
      "2022-09-19 09:13:38.830130: I tensorflow/stream_executor/cuda/cuda_dnn.cc:369] Loaded cuDNN version 8005\n"
     ]
    },
    {
     "name": "stdout",
     "output_type": "stream",
     "text": [
      "65/65 [==============================] - 463s 7s/step - loss: 0.2056 - accuracy: 0.0528 - val_loss: 0.2652 - val_accuracy: 0.1897\n",
      "\n",
      "Epoch 00001: val_accuracy improved from -inf to 0.18972, saving model to /kaggle/working/model_1.h5\n",
      "Epoch 2/20\n",
      "65/65 [==============================] - 269s 4s/step - loss: 0.1324 - accuracy: 0.1126 - val_loss: 0.2308 - val_accuracy: 0.0655\n",
      "\n",
      "Epoch 00002: val_accuracy did not improve from 0.18972\n",
      "Epoch 3/20\n",
      "65/65 [==============================] - 271s 4s/step - loss: 0.1188 - accuracy: 0.1202 - val_loss: 0.1846 - val_accuracy: 0.0566\n",
      "\n",
      "Epoch 00003: val_accuracy did not improve from 0.18972\n",
      "Epoch 4/20\n",
      "65/65 [==============================] - 270s 4s/step - loss: 0.1146 - accuracy: 0.1143 - val_loss: 0.1399 - val_accuracy: 0.0940\n",
      "\n",
      "Epoch 00004: val_accuracy did not improve from 0.18972\n",
      "Epoch 5/20\n",
      "65/65 [==============================] - 272s 4s/step - loss: 0.1112 - accuracy: 0.1153 - val_loss: 0.1231 - val_accuracy: 0.0846\n",
      "\n",
      "Epoch 00005: val_accuracy did not improve from 0.18972\n",
      "Epoch 00005: early stopping\n",
      "Found 32383 validated image filenames.\n",
      "Found 8096 validated image filenames.\n",
      "Epoch 1/20\n",
      "65/65 [==============================] - 275s 4s/step - loss: 0.1355 - accuracy: 0.1007 - val_loss: 0.1181 - val_accuracy: 0.0975\n",
      "\n",
      "Epoch 00001: val_accuracy improved from -inf to 0.09746, saving model to /kaggle/working/model_2.h5\n",
      "Epoch 2/20\n",
      "65/65 [==============================] - 271s 4s/step - loss: 0.1089 - accuracy: 0.1144 - val_loss: 0.1107 - val_accuracy: 0.1146\n",
      "\n",
      "Epoch 00002: val_accuracy improved from 0.09746 to 0.11462, saving model to /kaggle/working/model_2.h5\n",
      "Epoch 3/20\n",
      "65/65 [==============================] - 270s 4s/step - loss: 0.1067 - accuracy: 0.1068 - val_loss: 0.1072 - val_accuracy: 0.1045\n",
      "\n",
      "Epoch 00003: val_accuracy did not improve from 0.11462\n",
      "Epoch 4/20\n",
      "65/65 [==============================] - 271s 4s/step - loss: 0.1031 - accuracy: 0.1114 - val_loss: 0.1040 - val_accuracy: 0.1181\n",
      "\n",
      "Epoch 00004: val_accuracy improved from 0.11462 to 0.11808, saving model to /kaggle/working/model_2.h5\n",
      "Epoch 5/20\n",
      "65/65 [==============================] - 272s 4s/step - loss: 0.1023 - accuracy: 0.1058 - val_loss: 0.1035 - val_accuracy: 0.1440\n",
      "\n",
      "Epoch 00005: val_accuracy improved from 0.11808 to 0.14402, saving model to /kaggle/working/model_2.h5\n",
      "Epoch 6/20\n",
      "65/65 [==============================] - 273s 4s/step - loss: 0.1013 - accuracy: 0.1082 - val_loss: 0.1040 - val_accuracy: 0.0858\n",
      "\n",
      "Epoch 00006: val_accuracy did not improve from 0.14402\n",
      "Epoch 7/20\n",
      "65/65 [==============================] - 276s 4s/step - loss: 0.1015 - accuracy: 0.1086 - val_loss: 0.1033 - val_accuracy: 0.1344\n",
      "\n",
      "Epoch 00007: val_accuracy did not improve from 0.14402\n",
      "Epoch 8/20\n",
      "65/65 [==============================] - 272s 4s/step - loss: 0.0987 - accuracy: 0.1082 - val_loss: 0.0996 - val_accuracy: 0.0993\n",
      "\n",
      "Epoch 00008: val_accuracy did not improve from 0.14402\n",
      "Epoch 9/20\n",
      "65/65 [==============================] - 272s 4s/step - loss: 0.0986 - accuracy: 0.1019 - val_loss: 0.0991 - val_accuracy: 0.1023\n",
      "\n",
      "Epoch 00009: val_accuracy did not improve from 0.14402\n",
      "Epoch 00009: early stopping\n",
      "Found 32383 validated image filenames.\n",
      "Found 8096 validated image filenames.\n",
      "Epoch 1/20\n",
      "65/65 [==============================] - 275s 4s/step - loss: 0.1051 - accuracy: 0.1028 - val_loss: 0.1000 - val_accuracy: 0.0920\n",
      "\n",
      "Epoch 00001: val_accuracy improved from -inf to 0.09202, saving model to /kaggle/working/model_3.h5\n",
      "Epoch 2/20\n",
      "65/65 [==============================] - 271s 4s/step - loss: 0.0993 - accuracy: 0.1063 - val_loss: 0.0975 - val_accuracy: 0.0931\n",
      "\n",
      "Epoch 00002: val_accuracy improved from 0.09202 to 0.09313, saving model to /kaggle/working/model_3.h5\n",
      "Epoch 3/20\n",
      "65/65 [==============================] - 274s 4s/step - loss: 0.0979 - accuracy: 0.1048 - val_loss: 0.0985 - val_accuracy: 0.1388\n",
      "\n",
      "Epoch 00003: val_accuracy improved from 0.09313 to 0.13883, saving model to /kaggle/working/model_3.h5\n",
      "Epoch 4/20\n",
      "65/65 [==============================] - 276s 4s/step - loss: 0.0973 - accuracy: 0.1068 - val_loss: 0.0997 - val_accuracy: 0.0936\n",
      "\n",
      "Epoch 00004: ReduceLROnPlateau reducing learning rate to 9.999999747378752e-06.\n",
      "\n",
      "Epoch 00004: val_accuracy did not improve from 0.13883\n",
      "Epoch 5/20\n",
      "65/65 [==============================] - 273s 4s/step - loss: 0.0925 - accuracy: 0.1121 - val_loss: 0.0934 - val_accuracy: 0.1229\n",
      "\n",
      "Epoch 00005: val_accuracy did not improve from 0.13883\n",
      "Epoch 6/20\n",
      "65/65 [==============================] - 273s 4s/step - loss: 0.0908 - accuracy: 0.1122 - val_loss: 0.0925 - val_accuracy: 0.1081\n",
      "\n",
      "Epoch 00006: val_accuracy did not improve from 0.13883\n",
      "Epoch 7/20\n",
      "65/65 [==============================] - 271s 4s/step - loss: 0.0906 - accuracy: 0.1065 - val_loss: 0.0930 - val_accuracy: 0.1109\n",
      "\n",
      "Epoch 00007: val_accuracy did not improve from 0.13883\n",
      "Epoch 00007: early stopping\n",
      "Found 32383 validated image filenames.\n",
      "Found 8096 validated image filenames.\n",
      "Epoch 1/20\n",
      "65/65 [==============================] - 275s 4s/step - loss: 0.0996 - accuracy: 0.1130 - val_loss: 0.0955 - val_accuracy: 0.1234\n",
      "\n",
      "Epoch 00001: val_accuracy improved from -inf to 0.12339, saving model to /kaggle/working/model_4.h5\n",
      "Epoch 2/20\n",
      "65/65 [==============================] - 272s 4s/step - loss: 0.0961 - accuracy: 0.0984 - val_loss: 0.0969 - val_accuracy: 0.1056\n",
      "\n",
      "Epoch 00002: val_accuracy did not improve from 0.12339\n",
      "Epoch 3/20\n",
      "65/65 [==============================] - 273s 4s/step - loss: 0.0958 - accuracy: 0.1039 - val_loss: 0.0955 - val_accuracy: 0.1141\n",
      "\n",
      "Epoch 00003: ReduceLROnPlateau reducing learning rate to 9.999999747378752e-06.\n",
      "\n",
      "Epoch 00003: val_accuracy did not improve from 0.12339\n",
      "Epoch 4/20\n",
      "65/65 [==============================] - 273s 4s/step - loss: 0.0908 - accuracy: 0.1049 - val_loss: 0.0938 - val_accuracy: 0.0945\n",
      "\n",
      "Epoch 00004: val_accuracy did not improve from 0.12339\n",
      "Epoch 5/20\n",
      "65/65 [==============================] - 272s 4s/step - loss: 0.0889 - accuracy: 0.0993 - val_loss: 0.0918 - val_accuracy: 0.1051\n",
      "\n",
      "Epoch 00005: val_accuracy did not improve from 0.12339\n",
      "Epoch 00005: early stopping\n",
      "Found 32384 validated image filenames.\n",
      "Found 8095 validated image filenames.\n",
      "Epoch 1/20\n",
      "65/65 [==============================] - 291s 4s/step - loss: 0.0970 - accuracy: 0.1063 - val_loss: 0.0949 - val_accuracy: 0.1024\n",
      "\n",
      "Epoch 00001: val_accuracy improved from -inf to 0.10241, saving model to /kaggle/working/model_5.h5\n",
      "Epoch 2/20\n",
      "65/65 [==============================] - 271s 4s/step - loss: 0.0952 - accuracy: 0.1034 - val_loss: 0.0956 - val_accuracy: 0.1209\n",
      "\n",
      "Epoch 00002: val_accuracy improved from 0.10241 to 0.12094, saving model to /kaggle/working/model_5.h5\n",
      "Epoch 3/20\n",
      "65/65 [==============================] - 271s 4s/step - loss: 0.0941 - accuracy: 0.1080 - val_loss: 0.0939 - val_accuracy: 0.0773\n",
      "\n",
      "Epoch 00003: val_accuracy did not improve from 0.12094\n",
      "Epoch 4/20\n",
      "65/65 [==============================] - 272s 4s/step - loss: 0.0939 - accuracy: 0.1094 - val_loss: 0.0941 - val_accuracy: 0.0954\n",
      "\n",
      "Epoch 00004: val_accuracy did not improve from 0.12094\n",
      "Epoch 5/20\n",
      "65/65 [==============================] - 272s 4s/step - loss: 0.0935 - accuracy: 0.1034 - val_loss: 0.0922 - val_accuracy: 0.1097\n",
      "\n",
      "Epoch 00005: val_accuracy did not improve from 0.12094\n",
      "Epoch 6/20\n",
      "65/65 [==============================] - 271s 4s/step - loss: 0.0929 - accuracy: 0.1109 - val_loss: 0.0929 - val_accuracy: 0.0976\n",
      "\n",
      "Epoch 00006: val_accuracy did not improve from 0.12094\n",
      "Epoch 00006: early stopping\n"
     ]
    },
    {
     "data": {
      "text/plain": [
       "6581"
      ]
     },
     "execution_count": 7,
     "metadata": {},
     "output_type": "execute_result"
    }
   ],
   "source": [
    "val_generator = train_model(train_classes)\n",
    "gc.collect()"
   ]
  },
  {
   "cell_type": "markdown",
   "id": "70050323",
   "metadata": {
    "papermill": {
     "duration": 0.119404,
     "end_time": "2022-09-19T11:51:30.056945",
     "exception": false,
     "start_time": "2022-09-19T11:51:29.937541",
     "status": "completed"
    },
    "tags": []
   },
   "source": [
    "<h2 style=\"color:yellow;background:blue;padding:5px\">preliminary Predictions</h2>"
   ]
  },
  {
   "cell_type": "code",
   "execution_count": 8,
   "id": "1630a983",
   "metadata": {
    "execution": {
     "iopub.execute_input": "2022-09-19T11:51:30.295623Z",
     "iopub.status.busy": "2022-09-19T11:51:30.295258Z",
     "iopub.status.idle": "2022-09-19T11:56:38.849626Z",
     "shell.execute_reply": "2022-09-19T11:56:38.848721Z"
    },
    "papermill": {
     "duration": 308.676925,
     "end_time": "2022-09-19T11:56:38.851713",
     "exception": false,
     "start_time": "2022-09-19T11:51:30.174788",
     "status": "completed"
    },
    "tags": []
   },
   "outputs": [
    {
     "name": "stderr",
     "output_type": "stream",
     "text": [
      "/opt/conda/lib/python3.7/site-packages/keras/engine/training.py:2035: UserWarning: `Model.predict_generator` is deprecated and will be removed in a future version. Please use `Model.predict`, which supports generators.\n",
      "  warnings.warn('`Model.predict_generator` is deprecated and '\n"
     ]
    },
    {
     "name": "stdout",
     "output_type": "stream",
     "text": [
      "17/17 [==============================] - 48s 3s/step\n",
      "17/17 [==============================] - 48s 3s/step\n",
      "17/17 [==============================] - 48s 3s/step\n",
      "17/17 [==============================] - 48s 3s/step\n",
      "17/17 [==============================] - 48s 3s/step\n",
      "17/17 [==============================] - 48s 3s/step\n"
     ]
    }
   ],
   "source": [
    "pred_val = predict_model(val_generator, 5)"
   ]
  },
  {
   "cell_type": "code",
   "execution_count": 9,
   "id": "8bcfdf8f",
   "metadata": {
    "execution": {
     "iopub.execute_input": "2022-09-19T11:56:39.093997Z",
     "iopub.status.busy": "2022-09-19T11:56:39.093183Z",
     "iopub.status.idle": "2022-09-19T11:56:39.107742Z",
     "shell.execute_reply": "2022-09-19T11:56:39.106844Z"
    },
    "papermill": {
     "duration": 0.138642,
     "end_time": "2022-09-19T11:56:39.109948",
     "exception": false,
     "start_time": "2022-09-19T11:56:38.971306",
     "status": "completed"
    },
    "tags": []
   },
   "outputs": [
    {
     "name": "stdout",
     "output_type": "stream",
     "text": [
      "F2 = 0.31846819024088946\n"
     ]
    }
   ],
   "source": [
    "preds = np.argmax(pred_val, axis=1)\n",
    "vals = np.argmax(val_generator.labels, axis=1)\n",
    "\n",
    "print('F2 = {}'.format(fbeta_score(vals, preds, beta=2, average='micro')))"
   ]
  },
  {
   "cell_type": "markdown",
   "id": "d9e32d67",
   "metadata": {
    "papermill": {
     "duration": 0.118063,
     "end_time": "2022-09-19T11:56:39.348426",
     "exception": false,
     "start_time": "2022-09-19T11:56:39.230363",
     "status": "completed"
    },
    "tags": []
   },
   "source": [
    "<h2 style=\"color:yellow;background:blue;padding:5px\"> Testing the model and making predictions</h2>"
   ]
  },
  {
   "cell_type": "code",
   "execution_count": 10,
   "id": "581d10ba",
   "metadata": {
    "_cell_guid": "b93f9987-7293-4084-a7d8-c6512064dbfe",
    "_uuid": "bf3355a2-177a-4f23-949e-adaf91ae147c",
    "execution": {
     "iopub.execute_input": "2022-09-19T11:56:39.586246Z",
     "iopub.status.busy": "2022-09-19T11:56:39.585889Z",
     "iopub.status.idle": "2022-09-19T12:11:13.650975Z",
     "shell.execute_reply": "2022-09-19T12:11:13.650017Z"
    },
    "papermill": {
     "duration": 874.187142,
     "end_time": "2022-09-19T12:11:13.653337",
     "exception": false,
     "start_time": "2022-09-19T11:56:39.466195",
     "status": "completed"
    },
    "tags": []
   },
   "outputs": [
    {
     "name": "stdout",
     "output_type": "stream",
     "text": [
      "Found 40669 validated image filenames.\n"
     ]
    },
    {
     "name": "stderr",
     "output_type": "stream",
     "text": [
      "/opt/conda/lib/python3.7/site-packages/keras/engine/training.py:2035: UserWarning: `Model.predict_generator` is deprecated and will be removed in a future version. Please use `Model.predict`, which supports generators.\n",
      "  warnings.warn('`Model.predict_generator` is deprecated and '\n"
     ]
    },
    {
     "name": "stdout",
     "output_type": "stream",
     "text": [
      "5084/5084 [==============================] - 217s 43ms/step\n",
      "5084/5084 [==============================] - 110s 22ms/step\n",
      "5084/5084 [==============================] - 110s 22ms/step\n",
      "5084/5084 [==============================] - 110s 22ms/step\n",
      "5084/5084 [==============================] - 113s 22ms/step\n",
      "5084/5084 [==============================] - 112s 22ms/step\n"
     ]
    },
    {
     "name": "stderr",
     "output_type": "stream",
     "text": [
      "100%|██████████| 40669/40669 [00:34<00:00, 1185.88it/s]\n"
     ]
    }
   ],
   "source": [
    "test_datagen=ImageDataGenerator(rescale=1./255.)\n",
    "\n",
    "test1_generator=test_datagen.flow_from_dataframe(\n",
    "                                            dataframe=sample_submission, directory=f'{path}/test-jpg/',\n",
    "                                            x_col=\"image_name\", y_col=None, batch_size=8,\n",
    "                                            seed=42, shuffle=False, class_mode=None, \n",
    "                                            target_size=(input_size, input_size))\n",
    "\n",
    "result1 = predict_model(test1_generator, 5)\n",
    "result1 = pd.DataFrame(result1, columns=cols[1:])\n",
    "result1[\"image_name\"]=test1_generator.filenames\n",
    "result1 = generate_original_format(result1.copy())"
   ]
  },
  {
   "cell_type": "code",
   "execution_count": 11,
   "id": "26b9a371",
   "metadata": {
    "execution": {
     "iopub.execute_input": "2022-09-19T12:11:15.174177Z",
     "iopub.status.busy": "2022-09-19T12:11:15.173813Z",
     "iopub.status.idle": "2022-09-19T12:18:56.183517Z",
     "shell.execute_reply": "2022-09-19T12:18:56.182356Z"
    },
    "papermill": {
     "duration": 461.738129,
     "end_time": "2022-09-19T12:18:56.186417",
     "exception": false,
     "start_time": "2022-09-19T12:11:14.448288",
     "status": "completed"
    },
    "tags": []
   },
   "outputs": [
    {
     "name": "stdout",
     "output_type": "stream",
     "text": [
      "Found 20522 validated image filenames.\n",
      "2566/2566 [==============================] - 113s 44ms/step\n",
      "2566/2566 [==============================] - 59s 23ms/step\n",
      "2566/2566 [==============================] - 58s 23ms/step\n",
      "2566/2566 [==============================] - 58s 23ms/step\n",
      "2566/2566 [==============================] - 59s 23ms/step\n",
      "2566/2566 [==============================] - 58s 22ms/step\n"
     ]
    },
    {
     "name": "stderr",
     "output_type": "stream",
     "text": [
      "100%|██████████| 20522/20522 [00:17<00:00, 1188.14it/s]\n"
     ]
    }
   ],
   "source": [
    "test2_generator=test_datagen.flow_from_dataframe(\n",
    "                                            dataframe=trad_sample_df, \n",
    "                                            directory='../input/planets-dataset/test-jpg-additional/test-jpg-additional/',\n",
    "                                            x_col=\"image_name\", y_col=None, batch_size=8,\n",
    "                                            seed=42, shuffle=False, class_mode=None, \n",
    "                                            target_size=(input_size, input_size))\n",
    "\n",
    "result2 = predict_model(test2_generator, 5)\n",
    "result2 = pd.DataFrame(result2, columns=cols[1:])\n",
    "result2[\"image_name\"]=test2_generator.filenames\n",
    "result2 = generate_original_format(result2.copy())"
   ]
  },
  {
   "cell_type": "code",
   "execution_count": 12,
   "id": "f4d83b3b",
   "metadata": {
    "execution": {
     "iopub.execute_input": "2022-09-19T12:18:58.477225Z",
     "iopub.status.busy": "2022-09-19T12:18:58.476513Z",
     "iopub.status.idle": "2022-09-19T12:18:58.594576Z",
     "shell.execute_reply": "2022-09-19T12:18:58.593585Z"
    },
    "papermill": {
     "duration": 1.297142,
     "end_time": "2022-09-19T12:18:58.597282",
     "exception": false,
     "start_time": "2022-09-19T12:18:57.300140",
     "status": "completed"
    },
    "tags": []
   },
   "outputs": [],
   "source": [
    "results = result1.append(result2, ignore_index=True)\n",
    "results.to_csv(\"my_submission.csv\",index=False)"
   ]
  },
  {
   "cell_type": "code",
   "execution_count": null,
   "id": "8961935e",
   "metadata": {
    "papermill": {
     "duration": 1.135467,
     "end_time": "2022-09-19T12:19:00.988011",
     "exception": false,
     "start_time": "2022-09-19T12:18:59.852544",
     "status": "completed"
    },
    "tags": []
   },
   "outputs": [],
   "source": []
  }
 ],
 "metadata": {
  "kernelspec": {
   "display_name": "Python 3",
   "language": "python",
   "name": "python3"
  },
  "language_info": {
   "codemirror_mode": {
    "name": "ipython",
    "version": 3
   },
   "file_extension": ".py",
   "mimetype": "text/x-python",
   "name": "python",
   "nbconvert_exporter": "python",
   "pygments_lexer": "ipython3",
   "version": "3.7.12"
  },
  "papermill": {
   "default_parameters": {},
   "duration": 11232.94799,
   "end_time": "2022-09-19T12:19:05.103901",
   "environment_variables": {},
   "exception": null,
   "input_path": "__notebook__.ipynb",
   "output_path": "__notebook__.ipynb",
   "parameters": {},
   "start_time": "2022-09-19T09:11:52.155911",
   "version": "2.3.4"
  }
 },
 "nbformat": 4,
 "nbformat_minor": 5
}
